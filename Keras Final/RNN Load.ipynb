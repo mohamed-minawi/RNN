{
 "cells": [
  {
   "cell_type": "code",
   "execution_count": 20,
   "metadata": {
    "scrolled": true
   },
   "outputs": [],
   "source": [
    "import csv\n",
    "import numpy as np\n",
    "import random\n",
    "import matplotlib.pyplot as plt\n",
    "import pandas as pd\n",
    "from sklearn.preprocessing import MinMaxScaler\n",
    "from sklearn.metrics import mean_squared_error\n",
    "from keras.models import Sequential, load_model\n",
    "from keras.layers import Dense, Activation, Dropout\n",
    "from keras.layers import LSTM\n",
    "from numpy import newaxis\n",
    "from keras import losses\n",
    "from tensorflow import set_random_seed\n",
    "\n",
    "import keras\n",
    "import math\n",
    "\n",
    "random.seed(7)\n",
    "np.random.seed(7)\n",
    "set_random_seed(7)"
   ]
  },
  {
   "cell_type": "code",
   "execution_count": 21,
   "metadata": {},
   "outputs": [],
   "source": [
    "def importData(path):\n",
    "    data = []\n",
    "    with open(path, newline='') as f:\n",
    "        reader = csv.reader(f)\n",
    "        for row in reader:\n",
    "            if 'S&P 500' not in row:\n",
    "                data.append(float(row[1]))\n",
    "    return data\n",
    "\n",
    "def shift(l):\n",
    "    for i in range(l.shape[0]-1):\n",
    "        l[i,:] = l[i+1,:]\n",
    "    return l\n",
    "\n",
    "def new_dataset(dataset, step_size):\n",
    "    data_X, data_Y = [], []\n",
    "    for i in range(len(dataset)-step_size-1):\n",
    "        a = dataset[i:(i+step_size), 0]\n",
    "        data_X.append(a)\n",
    "        data_Y.append(dataset[i + step_size, 0])\n",
    "    return np.array(data_X), np.array(data_Y)\n",
    "\n",
    "def preprocessData(sc, data, sequence):\n",
    "    data = np.array(data).reshape(-1, 1)\n",
    "    data = sc.fit_transform(data)\n",
    "\n",
    "    train_size = int(len(data) * 0.8)\n",
    "    test_size = len(data) - train_size\n",
    "    train = data[0:train_size,:]\n",
    "    test = data[train_size:len(data),:]  \n",
    "\n",
    "    X_train, y_train = new_dataset(train, sequence)\n",
    "    X_test, y_test = new_dataset(test, sequence)\n",
    "    \n",
    "    X_train = np.asarray(np.reshape(X_train, (X_train.shape[0], sequence, 1)))\n",
    "    X_test = np.asarray(np.reshape(X_test, (X_test.shape[0], sequence, 1)))\n",
    "    \n",
    "    return X_train, y_train , X_test, y_test\n",
    "\n",
    "def preprocessData_test(sc, data, sequence):\n",
    "    data = np.array(data).reshape(-1, 1)\n",
    "    data = sc.fit_transform(data)\n",
    "    X_train , y_train= new_dataset(data, sequence)\n",
    "    X_train = np.asarray(np.reshape(X_train, (X_train.shape[0], sequence, 1)))\n",
    "    \n",
    "    return X_train, y_train"
   ]
  },
  {
   "cell_type": "code",
   "execution_count": 29,
   "metadata": {},
   "outputs": [],
   "source": [
    "data = importData(\"data10.csv\")\n",
    "sequence = 5\n",
    "\n",
    "sc = MinMaxScaler(feature_range=(0, 1))\n",
    "\n",
    "X_train, y_train, X_test, y_test = preprocessData(sc, data, sequence)"
   ]
  },
  {
   "cell_type": "code",
   "execution_count": 23,
   "metadata": {
    "scrolled": true
   },
   "outputs": [],
   "source": [
    "model = load_model(\"Test3216-B5-LB5.h5\")"
   ]
  },
  {
   "cell_type": "code",
   "execution_count": 30,
   "metadata": {
    "scrolled": true
   },
   "outputs": [
    {
     "name": "stdout",
     "output_type": "stream",
     "text": [
      "Train Error: 18.66 RMSE\n",
      "Test Error: 18.99 RMSE\n",
      "----------------------------------------\n",
      "Train Accuracy: 81.34 RMSE\n",
      "Test Accuracy: 81.01 RMSE\n"
     ]
    }
   ],
   "source": [
    "trainPredict = model.predict(X_train)\n",
    "testPredict = model.predict(X_test)\n",
    "\n",
    "trainPredict = sc.inverse_transform(trainPredict)\n",
    "trainY = sc.inverse_transform([y_train])\n",
    "testPredict = sc.inverse_transform(testPredict)\n",
    "testY = sc.inverse_transform([y_test])\n",
    "\n",
    "# trainPredict = shift(trainPredict)\n",
    "# testPredict = shift(testPredict)\n",
    "\n",
    "trainError = math.sqrt(mean_squared_error(trainY[0], trainPredict[:,0]))\n",
    "testError = math.sqrt(mean_squared_error(testY[0], testPredict[:,0]))\n",
    "\n",
    "print('Train Error: %.2f RMSE' % (trainError))\n",
    "print('Test Error: %.2f RMSE' % (testError))\n",
    "print(\"----------------------------------------\")\n",
    "print('Train Accuracy: %.2f RMSE' % (100-trainError))\n",
    "print('Test Accuracy: %.2f RMSE' % (100-testError))"
   ]
  },
  {
   "cell_type": "code",
   "execution_count": 31,
   "metadata": {
    "scrolled": false
   },
   "outputs": [
    {
     "data": {
      "image/png": "[encoded data removed]",
      "text/plain": [
       "<Figure size 432x288 with 1 Axes>"
      ]
     },
     "metadata": {},
     "output_type": "display_data"
    }
   ],
   "source": [
    "testY = np.array(testY).reshape(-1, 1)\n",
    "\n",
    "plt.plot(testPredict, 'b', label = 'Predicted Price')\n",
    "plt.plot(testY, 'r', label = 'Actual Price')\n",
    "plt.xlabel('Time in Days')\n",
    "plt.ylabel('Value of Stocks')\n",
    "plt.show()"
   ]
  },
  {
   "cell_type": "code",
   "execution_count": 28,
   "metadata": {
    "scrolled": true
   },
   "outputs": [
    {
     "name": "stdout",
     "output_type": "stream",
     "text": [
      "[2725.5771, 2727.4065, 2720.0168, 2725.5864, 2727.6638]\n"
     ]
    }
   ],
   "source": [
    "data = importData(\"data10.csv\")\n",
    "\n",
    "arr = data[-1*sequence -2:]\n",
    "for i in range(9):\n",
    "    datax, datay = preprocessData_test(sc,arr,sequence)\n",
    "    testPredict2 = model.predict(datax)\n",
    "    testPredict2 = sc.inverse_transform(testPredict2)\n",
    "    arr.append(testPredict2[-1:,0][0])\n",
    "\n",
    "print(arr[sequence + 5:])"
   ]
  },
  {
   "cell_type": "code",
   "execution_count": 12,
   "metadata": {},
   "outputs": [
    {
     "data": {
      "text/plain": [
       "[2721.3608, 2725.552, 2738.2537, 2724.172, 2723.2993]"
      ]
     },
     "execution_count": 12,
     "metadata": {},
     "output_type": "execute_result"
    }
   ],
   "source": [
    "[2725.5771, 2727.4065, 2720.0168, 2725.5864, 2727.6638] # Net3216-B5-LB5\n",
    "[2726.1902, 2731.658, 2720.4673, 2723.47, 2729.935] # Net3216-B512-LB10"
   ]
  }
 ],
 "metadata": {
  "kernelspec": {
   "display_name": "Python 3",
   "language": "python",
   "name": "python3"
  },
  "language_info": {
   "codemirror_mode": {
    "name": "ipython",
    "version": 3
   },
   "file_extension": ".py",
   "mimetype": "text/x-python",
   "name": "python",
   "nbconvert_exporter": "python",
   "pygments_lexer": "ipython3",
   "version": "3.6.4"
  }
 },
 "nbformat": 4,
 "nbformat_minor": 2
}
